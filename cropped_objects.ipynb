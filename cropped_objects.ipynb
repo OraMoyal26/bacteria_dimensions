{
  "nbformat": 4,
  "nbformat_minor": 0,
  "metadata": {
    "colab": {
      "provenance": [],
      "authorship_tag": "ABX9TyNjnXxkt8vUwVvxVkf7GxPX",
      "include_colab_link": true
    },
    "kernelspec": {
      "name": "python3",
      "display_name": "Python 3"
    },
    "language_info": {
      "name": "python"
    }
  },
  "cells": [
    {
      "cell_type": "markdown",
      "metadata": {
        "id": "view-in-github",
        "colab_type": "text"
      },
      "source": [
        "<a href=\"https://colab.research.google.com/github/OraMoyal26/bacteria_dimensions/blob/main/cropped_objects.ipynb\" target=\"_parent\"><img src=\"https://colab.research.google.com/assets/colab-badge.svg\" alt=\"Open In Colab\"/></a>"
      ]
    },
    {
      "cell_type": "markdown",
      "source": [
        "### This code cuts the objects in the images and saves each object in a separate image file\n",
        "#### data needed:\n",
        "#### 1. images of objects(JPG)\n",
        "#### 2. annotation file\n",
        "\n"
      ],
      "metadata": {
        "id": "PSpQicBAjRWe"
      }
    },
    {
      "cell_type": "code",
      "source": [
        "from google.colab import drive\n",
        "drive.mount('/content/gdrive')"
      ],
      "metadata": {
        "colab": {
          "base_uri": "https://localhost:8080/"
        },
        "id": "OX8iBcDLiAxx",
        "outputId": "5b2bcc76-7a8a-4b82-f7ed-c9f79c045664"
      },
      "execution_count": null,
      "outputs": [
        {
          "output_type": "stream",
          "name": "stdout",
          "text": [
            "Mounted at /content/gdrive\n"
          ]
        }
      ]
    },
    {
      "cell_type": "code",
      "source": [
        "import os\n",
        "import cv2\n",
        "import pandas as pd"
      ],
      "metadata": {
        "id": "bQKXhCAgiFgz"
      },
      "execution_count": null,
      "outputs": []
    },
    {
      "cell_type": "code",
      "execution_count": null,
      "metadata": {
        "id": "kNVpkEmkhgVJ"
      },
      "outputs": [],
      "source": [
        "def save_cropped_objects(directory_path, output_directory, df):\n",
        "\n",
        "    for filename in os.listdir(directory_path):\n",
        "        if filename.endswith(\".jpg\"):\n",
        "            file_path = os.path.join(directory_path, filename)\n",
        "            image = cv2.imread(file_path)\n",
        "\n",
        "            relevant_boxes = df[df['image'] == filename][['xmin', 'ymin', 'xmax', 'ymax']].values\n",
        "\n",
        "            for index, (xmin, ymin, xmax, ymax) in enumerate(relevant_boxes):\n",
        "                cropped_image = image[int(xmin):int(xmax), int(ymin):int(ymax)]\n",
        "                save_path = os.path.join(output_directory, f\"{filename[:-4]}_object{index}.jpg\")\n",
        "                cv2.imwrite(save_path, cropped_image)\n"
      ]
    },
    {
      "cell_type": "code",
      "source": [
        "directory_path = '/content/gdrive/MyDrive/bacteria cells/test json'  # path to the images folder\n",
        "annotation_file = '/content/gdrive/MyDrive/BacterialCells/annotation.csv' # path to annotation file\n",
        "output_directory = '/content/gdrive/MyDrive/bacteria cells/cropped_objects'  # path to save the objects\n",
        "\n",
        "df = pd.read_csv(annotation_file)\n",
        "save_cropped_objects(directory_path, output_directory, df)"
      ],
      "metadata": {
        "id": "qsWSyA2Whj89"
      },
      "execution_count": null,
      "outputs": []
    }
  ]
}